{
 "cells": [
  {
   "cell_type": "markdown",
   "metadata": {},
   "source": [
    "## Tramsformer Pipeline"
   ]
  },
  {
   "cell_type": "markdown",
   "metadata": {},
   "source": [
    "<br><br>"
   ]
  },
  {
   "cell_type": "markdown",
   "metadata": {},
   "source": [
    "### Directory Structure"
   ]
  },
  {
   "cell_type": "code",
   "execution_count": 15,
   "metadata": {},
   "outputs": [],
   "source": [
    "from directory_tree import display_tree\n",
    "customPath = './'\n",
    "directory_tree = display_tree(customPath, max_depth=5, string_rep=True, show_hidden=True)\n",
    "with open(\"debug/transformer_directory_tree.txt\", \"w\") as f:\n",
    "    f.write(directory_tree)"
   ]
  },
  {
   "cell_type": "markdown",
   "metadata": {},
   "source": [
    "### Transformer"
   ]
  },
  {
   "cell_type": "code",
   "execution_count": 17,
   "metadata": {},
   "outputs": [
    {
     "name": "stdout",
     "output_type": "stream",
     "text": [
      "2024-05-17 01:37:15.343516: I tensorflow/core/platform/cpu_feature_guard.cc:210] This TensorFlow binary is optimized to use available CPU instructions in performance-critical operations.\n",
      "To enable the following instructions: AVX2 FMA, in other operations, rebuild TensorFlow with the appropriate compiler flags.\n",
      "2024-05-17 01:37:15.871397: W tensorflow/compiler/tf2tensorrt/utils/py_utils.cc:38] TF-TRT Warning: Could not find TensorRT\n",
      "sentencepiece_trainer.cc(178) LOG(INFO) Running command: --input=data/iwslt17.de.en/txt/train-de.txt,data/iwslt17.de.en/txt/valid-de.txt,data/iwslt17.de.en/txt/test-de.txt --model_prefix=./data/iwslt17.de.en/tokenizer/transformer-sp-bpe-iwslt-de --vocab_size=37000 --minloglevel=2 --model_type=bpe --vocab_size=37000 --max_sentence_length=999999 --character_coverage=1.0 --pad_id=0 --pad_piece=<pad> --unk_id=1 --unk_piece=<unk> --bos_id=2 --bos_piece=<s> --eos_id=3 --eos_piece=</s>\n",
      "Epoch 1: 100%|█████████████████████████████| 3646/3646 [00:16<00:00, 227.82it/s]\n"
     ]
    }
   ],
   "source": [
    "!python -m train \\\n",
    "    --config './config/demo.json' \\\n",
    "    --data_dir './data/iwslt17.de.en/' \\\n",
    "    --output_dir './output/' \\\n",
    "    --debug_dir './debug/' \\\n",
    "    --src_lang 'de' \\\n",
    "    --tgt_lang 'en' \\\n",
    "    --seed 42 \\\n",
    "    --epoch 1 \\\n",
    "    --batch_size 32 \\\n",
    "    --max_seq_length 64 \\\n",
    "    --vocab_size 37000 \\\n",
    "    --sinusoidal_wave 10000 \\\n",
    "    --embedding_dim 512 \\\n",
    "    --n_sub_layer 6 \\\n",
    "    --feed_forward_size 2048 \\\n",
    "    --num_attention_heads 12 \\\n",
    "    --attention_dropout_prob 0.1\n",
    "\n",
    "# !sh ./train.sh"
   ]
  },
  {
   "cell_type": "markdown",
   "metadata": {},
   "source": [
    "### Reference"
   ]
  },
  {
   "cell_type": "markdown",
   "metadata": {},
   "source": [
    "<b>Paper</b>\n",
    "<br>[Attention is all you need](https://arxiv.org/abs/1706.03762)\n",
    "\n",
    "<br><b>Data</b>\n",
    "<br>[IWSLT 2017-01](https://wit3.fbk.eu/2017-01)\n",
    "<br>[IWSLT 2017-01-B](https://wit3.fbk.eu/2017-01-b)|"
   ]
  }
 ],
 "metadata": {
  "kernelspec": {
   "display_name": "base",
   "language": "python",
   "name": "python3"
  },
  "language_info": {
   "codemirror_mode": {
    "name": "ipython",
    "version": 3
   },
   "file_extension": ".py",
   "mimetype": "text/x-python",
   "name": "python",
   "nbconvert_exporter": "python",
   "pygments_lexer": "ipython3",
   "version": "3.10.14"
  }
 },
 "nbformat": 4,
 "nbformat_minor": 2
}
