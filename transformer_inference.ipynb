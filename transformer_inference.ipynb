{
 "cells": [
  {
   "cell_type": "markdown",
   "metadata": {},
   "source": [
    "## Tramsformer Pipeline"
   ]
  },
  {
   "cell_type": "markdown",
   "metadata": {},
   "source": [
    "<br><br>"
   ]
  },
  {
   "cell_type": "markdown",
   "metadata": {},
   "source": [
    "### Bleu Score"
   ]
  },
  {
   "cell_type": "code",
   "execution_count": 5,
   "metadata": {},
   "outputs": [
    {
     "name": "stderr",
     "output_type": "stream",
     "text": [
      "2024-05-24 00:21:34.547694: I tensorflow/core/platform/cpu_feature_guard.cc:210] This TensorFlow binary is optimized to use available CPU instructions in performance-critical operations.\n",
      "To enable the following instructions: AVX2 AVX512F FMA, in other operations, rebuild TensorFlow with the appropriate compiler flags.\n",
      "2024-05-24 00:21:35.799726: W tensorflow/compiler/tf2tensorrt/utils/py_utils.cc:38] TF-TRT Warning: Could not find TensorRT\n"
     ]
    },
    {
     "name": "stdout",
     "output_type": "stream",
     "text": [
      "Prediction:\n",
      "And at the end of that remarkable conversations with kids and their best friends all the United States , after two years , we ran together , studies data from another 10,000 children , put , to look up of what we thought were the most results of our research\n",
      "\n",
      "Label:\n",
      "And at the end of those remarkable conversations with kids and their best friends across the United States , after two years , we pulled together some survey data from another 10,000 children , drew up a set up of what we thought were the key findings of our research\n",
      "\n",
      "Bleu:\n",
      "58.5367\n",
      "\n"
     ]
    }
   ],
   "source": [
    "import evaluate\n",
    "metric = evaluate.load(\"bleu\")\n",
    "prediction = ['And', 'at', 'the', 'end', 'of', 'that', 'remarkable', 'conversations', 'with', 'kids', 'and', 'their', 'best', 'friends', 'all', 'the', 'United', 'States', ',', 'after', 'two', 'years', ',', 'we', 'ran', 'together', ',', 'studies', 'data', 'from', 'another', '10,000', 'children', ',', 'put', ',', 'to', 'look', 'up', 'of', 'what', 'we', 'thought', 'were', 'the', 'most', 'results', 'of', 'our', 'research']\n",
    "label = ['And', 'at', 'the', 'end', 'of', 'those', 'remarkable', 'conversations', 'with', 'kids', 'and', 'their', 'best', 'friends', 'across', 'the', 'United', 'States', ',', 'after', 'two', 'years', ',', 'we', 'pulled', 'together', 'some', 'survey', 'data', 'from', 'another', '10,000', 'children', ',', 'drew', 'up', 'a', 'set', 'up', 'of', 'what', 'we', 'thought', 'were', 'the', 'key', 'findings', 'of', 'our', 'research']\n",
    "prediction = ' '.join(prediction)\n",
    "label = ' '.join(label)\n",
    "result = metric.compute(predictions=[prediction], references=[[label]])\n",
    "sentence_bleu_score = round(result['bleu'] * 100, 4)\n",
    "print(\"Prediction:\\n{}\\n\".format(prediction))\n",
    "print(\"Label:\\n{}\\n\".format(label))\n",
    "print(\"Bleu:\\n{}\\n\".format(sentence_bleu_score))"
   ]
  },
  {
   "cell_type": "markdown",
   "metadata": {},
   "source": [
    "### Inference"
   ]
  },
  {
   "cell_type": "markdown",
   "metadata": {},
   "source": [
    "#### BLEU"
   ]
  },
  {
   "cell_type": "code",
   "execution_count": 4,
   "metadata": {},
   "outputs": [
    {
     "name": "stdout",
     "output_type": "stream",
     "text": [
      "2024-05-23 23:32:53.640137: I tensorflow/core/platform/cpu_feature_guard.cc:210] This TensorFlow binary is optimized to use available CPU instructions in performance-critical operations.\n",
      "To enable the following instructions: AVX2 AVX512F FMA, in other operations, rebuild TensorFlow with the appropriate compiler flags.\n",
      "2024-05-23 23:32:54.320999: W tensorflow/compiler/tf2tensorrt/utils/py_utils.cc:38] TF-TRT Warning: Could not find TensorRT\n",
      "sentencepiece_trainer.cc(178) LOG(INFO) Running command: --input=./data/iwslt17.de.en/txt/train-de.txt,./data/iwslt17.de.en/txt/valid-de.txt --model_prefix=data/iwslt17.de.en/tokenizer/transformer-sp-bpe-iwslt-de --vocab_size=18500 --model_type=bpe --bos_id=2 --eos_id=3 --pad_id=0 --unk_id=1 --minloglevel=2\n",
      " 89%|████████████████████████████████████████     | 8/9 [00:19<00:02,  2.41s/it]\n",
      "Prediction:\n",
      "\n",
      "['', 'There']\n",
      "['', 'There', \"'\"]\n",
      "['', 'There', \"'\", 's']\n",
      "['', 'There', \"'\", 's', 'worse']\n",
      "['', 'There', \"'\", 's', 'worse', 'than']\n",
      "['', 'There', \"'\", 's', 'worse', 'than', 'the']\n",
      "['', 'There', \"'\", 's', 'worse', 'than', 'the', '\"']\n",
      "['', 'There', \"'\", 's', 'worse', 'than', 'the', '\"', 'p']\n",
      "['', 'There', \"'\", 's', 'worse', 'than', 'the', '\"', 'p', 'ad']\n",
      "['', 'There', \"'\", 's', 'worse', 'than', 'the', '\"', 'p', 'ad', 'ter']\n",
      "['', 'There', \"'\", 's', 'worse', 'than', 'the', '\"', 'p', 'ad', 'ter', '.\"']\n",
      "['', 'There', \"'\", 's', 'worse', 'than', 'the', '\"', 'p', 'ad', 'ter', '.\"', '']\n",
      "['', 'There', \"'\", 's', 'worse', 'than', 'the', '\"', 'p', 'ad', 'ter', '.\"', '', '.']\n",
      "['', 'There', \"'\", 's', 'worse', 'than', 'the', '\"', 'p', 'ad', 'ter', '.\"', '', '.', '']\n",
      "['', 'There', \"'\", 's', 'worse', 'than', 'the', '\"', 'p', 'ad', 'ter', '.\"', '', '.', '', '.']\n",
      "['', 'There', \"'\", 's', 'worse', 'than', 'the', '\"', 'p', 'ad', 'ter', '.\"', '', '.', '', '.', '']\n",
      "['', 'There', \"'\", 's', 'worse', 'than', 'the', '\"', 'p', 'ad', 'ter', '.\"', '', '.', '', '.', '', '.\"']\n",
      "['', 'There', \"'\", 's', 'worse', 'than', 'the', '\"', 'p', 'ad', 'ter', '.\"', '', '.', '', '.', '', '.\"', '']\n",
      "['', 'There', \"'\", 's', 'worse', 'than', 'the', '\"', 'p', 'ad', 'ter', '.\"', '', '.', '', '.', '', '.\"', '', '.']\n",
      "['', 'There', \"'\", 's', 'worse', 'than', 'the', '\"', 'p', 'ad', 'ter', '.\"', '', '.', '', '.', '', '.\"', '', '.', '']\n",
      "['', 'There', \"'\", 's', 'worse', 'than', 'the', '\"', 'p', 'ad', 'ter', '.\"', '', '.', '', '.', '', '.\"', '', '.', '', '.']\n",
      "['', 'There', \"'\", 's', 'worse', 'than', 'the', '\"', 'p', 'ad', 'ter', '.\"', '', '.', '', '.', '', '.\"', '', '.', '', '.', '']\n",
      "['', 'There', \"'\", 's', 'worse', 'than', 'the', '\"', 'p', 'ad', 'ter', '.\"', '', '.', '', '.', '', '.\"', '', '.', '', '.', '', '.']\n",
      "['', 'There', \"'\", 's', 'worse', 'than', 'the', '\"', 'p', 'ad', 'ter', '.\"', '', '.', '', '.', '', '.\"', '', '.', '', '.', '', '.', '']\n",
      "['', 'There', \"'\", 's', 'worse', 'than', 'the', '\"', 'p', 'ad', 'ter', '.\"', '', '.', '', '.', '', '.\"', '', '.', '', '.', '', '.', '', '.']\n",
      "['', 'There', \"'\", 's', 'worse', 'than', 'the', '\"', 'p', 'ad', 'ter', '.\"', '', '.', '', '.', '', '.\"', '', '.', '', '.', '', '.', '', '.', '']\n",
      "['', 'There', \"'\", 's', 'worse', 'than', 'the', '\"', 'p', 'ad', 'ter', '.\"', '', '.', '', '.', '', '.\"', '', '.', '', '.', '', '.', '', '.', '', '.']\n",
      "['', 'There', \"'\", 's', 'worse', 'than', 'the', '\"', 'p', 'ad', 'ter', '.\"', '', '.', '', '.', '', '.\"', '', '.', '', '.', '', '.', '', '.', '', '.', '']\n",
      "['', 'There', \"'\", 's', 'worse', 'than', 'the', '\"', 'p', 'ad', 'ter', '.\"', '', '.', '', '.', '', '.\"', '', '.', '', '.', '', '.', '', '.', '', '.', '', '.']\n",
      "['', 'There', \"'\", 's', 'worse', 'than', 'the', '\"', 'p', 'ad', 'ter', '.\"', '', '.', '', '.', '', '.\"', '', '.', '', '.', '', '.', '', '.', '', '.', '', '.', '']\n",
      "['', 'There', \"'\", 's', 'worse', 'than', 'the', '\"', 'p', 'ad', 'ter', '.\"', '', '.', '', '.', '', '.\"', '', '.', '', '.', '', '.', '', '.', '', '.', '', '.', '', '.']\n",
      "['', 'There', \"'\", 's', 'worse', 'than', 'the', '\"', 'p', 'ad', 'ter', '.\"', '', '.', '', '.', '', '.\"', '', '.', '', '.', '', '.', '', '.', '', '.', '', '.', '', '.', '']\n",
      "['', 'There', \"'\", 's', 'worse', 'than', 'the', '\"', 'p', 'ad', 'ter', '.\"', '', '.', '', '.', '', '.\"', '', '.', '', '.', '', '.', '', '.', '', '.', '', '.', '', '.', '', '.']\n",
      "['', 'There', \"'\", 's', 'worse', 'than', 'the', '\"', 'p', 'ad', 'ter', '.\"', '', '.', '', '.', '', '.\"', '', '.', '', '.', '', '.', '', '.', '', '.', '', '.', '', '.', '', '.', '']\n",
      "['', 'There', \"'\", 's', 'worse', 'than', 'the', '\"', 'p', 'ad', 'ter', '.\"', '', '.', '', '.', '', '.\"', '', '.', '', '.', '', '.', '', '.', '', '.', '', '.', '', '.', '', '.', '', '.']\n",
      "['', 'There', \"'\", 's', 'worse', 'than', 'the', '\"', 'p', 'ad', 'ter', '.\"', '', '.', '', '.', '', '.\"', '', '.', '', '.', '', '.', '', '.', '', '.', '', '.', '', '.', '', '.', '', '.', '']\n",
      "['', 'There', \"'\", 's', 'worse', 'than', 'the', '\"', 'p', 'ad', 'ter', '.\"', '', '.', '', '.', '', '.\"', '', '.', '', '.', '', '.', '', '.', '', '.', '', '.', '', '.', '', '.', '', '.', '', '.']\n",
      "['', 'There', \"'\", 's', 'worse', 'than', 'the', '\"', 'p', 'ad', 'ter', '.\"', '', '.', '', '.', '', '.\"', '', '.', '', '.', '', '.', '', '.', '', '.', '', '.', '', '.', '', '.', '', '.', '', '.', '']\n",
      "['', 'There', \"'\", 's', 'worse', 'than', 'the', '\"', 'p', 'ad', 'ter', '.\"', '', '.', '', '.', '', '.\"', '', '.', '', '.', '', '.', '', '.', '', '.', '', '.', '', '.', '', '.', '', '.', '', '.', '', '.']\n",
      "['', 'There', \"'\", 's', 'worse', 'than', 'the', '\"', 'p', 'ad', 'ter', '.\"', '', '.', '', '.', '', '.\"', '', '.', '', '.', '', '.', '', '.', '', '.', '', '.', '', '.', '', '.', '', '.', '', '.', '', '.', '']\n",
      "['', 'There', \"'\", 's', 'worse', 'than', 'the', '\"', 'p', 'ad', 'ter', '.\"', '', '.', '', '.', '', '.\"', '', '.', '', '.', '', '.', '', '.', '', '.', '', '.', '', '.', '', '.', '', '.', '', '.', '', '.', '', '.']\n",
      "['', 'There', \"'\", 's', 'worse', 'than', 'the', '\"', 'p', 'ad', 'ter', '.\"', '', '.', '', '.', '', '.\"', '', '.', '', '.', '', '.', '', '.', '', '.', '', '.', '', '.', '', '.', '', '.', '', '.', '', '.', '', '.', '']\n",
      "['', 'There', \"'\", 's', 'worse', 'than', 'the', '\"', 'p', 'ad', 'ter', '.\"', '', '.', '', '.', '', '.\"', '', '.', '', '.', '', '.', '', '.', '', '.', '', '.', '', '.', '', '.', '', '.', '', '.', '', '.', '', '.', '', '.']\n",
      "['', 'There', \"'\", 's', 'worse', 'than', 'the', '\"', 'p', 'ad', 'ter', '.\"', '', '.', '', '.', '', '.\"', '', '.', '', '.', '', '.', '', '.', '', '.', '', '.', '', '.', '', '.', '', '.', '', '.', '', '.', '', '.', '', '.', '']\n",
      "['', 'There', \"'\", 's', 'worse', 'than', 'the', '\"', 'p', 'ad', 'ter', '.\"', '', '.', '', '.', '', '.\"', '', '.', '', '.', '', '.', '', '.', '', '.', '', '.', '', '.', '', '.', '', '.', '', '.', '', '.', '', '.', '', '.', '', '.']\n",
      "['', 'There', \"'\", 's', 'worse', 'than', 'the', '\"', 'p', 'ad', 'ter', '.\"', '', '.', '', '.', '', '.\"', '', '.', '', '.', '', '.', '', '.', '', '.', '', '.', '', '.', '', '.', '', '.', '', '.', '', '.', '', '.', '', '.', '', '.', '']\n",
      "['', 'There', \"'\", 's', 'worse', 'than', 'the', '\"', 'p', 'ad', 'ter', '.\"', '', '.', '', '.', '', '.\"', '', '.', '', '.', '', '.', '', '.', '', '.', '', '.', '', '.', '', '.', '', '.', '', '.', '', '.', '', '.', '', '.', '', '.', '', 'ing']\n",
      "['', 'There', \"'\", 's', 'worse', 'than', 'the', '\"', 'p', 'ad', 'ter', '.\"', '', '.', '', '.', '', '.\"', '', '.', '', '.', '', '.', '', '.', '', '.', '', '.', '', '.', '', '.', '', '.', '', '.', '', '.', '', '.', '', '.', '', '.', '', 'ing', '.']\n",
      "['', 'There', \"'\", 's', 'worse', 'than', 'the', '\"', 'p', 'ad', 'ter', '.\"', '', '.', '', '.', '', '.\"', '', '.', '', '.', '', '.', '', '.', '', '.', '', '.', '', '.', '', '.', '', '.', '', '.', '', '.', '', '.', '', '.', '', '.', '', 'ing', '.', '']\n",
      "['', 'There', \"'\", 's', 'worse', 'than', 'the', '\"', 'p', 'ad', 'ter', '.\"', '', '.', '', '.', '', '.\"', '', '.', '', '.', '', '.', '', '.', '', '.', '', '.', '', '.', '', '.', '', '.', '', '.', '', '.', '', '.', '', '.', '', '.', '', 'ing', '.', '', '.']\n",
      "\n",
      "Prediction ID: ['', 'There', \"'\", 's', 'worse', 'than', 'the', '\"', 'p', 'ad', 'ter', '.\"', '', '.', '', '.', '', '.\"', '', '.', '', '.', '', '.', '', '.', '', '.', '', '.', '', '.', '', '.', '', '.', '', '.', '', '.', '', '.', '', '.', '', '.', '', 'ing', '.', '', '.']\n",
      "\n",
      "Prediction Text: [2, 453, 18457, 18439, 2838, 374, 8, 151, 18451, 132, 149, 252, 3, 18453, 3, 18453, 3, 252, 3, 18453, 3, 18453, 3, 18453, 3, 18453, 3, 18453, 3, 18453, 3, 18453, 3, 18453, 3, 18453, 3, 18453, 3, 18453, 3, 18453, 3, 18453, 3, 18453, 3, 21, 18453, 3, 18453]\n",
      "Label Text: [782, 51, 5319, 135, 891, 50, 186, 13211, 4, 8799, 1257, 3, 0, 0, 0, 0, 0, 0, 0, 0, 0, 0, 0, 0, 0, 0, 0, 0, 0, 0, 0, 0, 0, 0, 0, 0, 0, 0, 0, 0, 0, 0, 0, 0, 0, 0, 0, 0, 0, 0]\n",
      "\n",
      "100%|█████████████████████████████████████████████| 9/9 [00:21<00:00,  2.43s/it]\n",
      "Test BLEU Score:16.9942  Perplexity:22.9745\n",
      "\n",
      "\n"
     ]
    }
   ],
   "source": [
    "import os\n",
    "os.environ[\"CUDA_DEVICE_ORDER\"] = \"PCI_BUS_ID\"\n",
    "os.environ[\"CUDA_VISIBLE_DEVICES\"] = \"1\"\n",
    "\n",
    "!python -m inference \\\n",
    "    --mode 'run' \\\n",
    "    --test_dataset 'T' \\\n",
    "    --inference_dataset 'inference/data/translation_pair' \\\n",
    "    --model_name 'demo_transformer_base' \\\n",
    "    --config './config/demo_transformer_base.json' \\\n",
    "    --load_model_path './noam_output/demo_transformer_base_81.pt' \\\n",
    "    --data_dir './data/iwslt17.de.en/' \\\n",
    "    --txt_dir 'txt/' \\\n",
    "    --tokenizer_dir 'data/iwslt17.de.en/tokenizer' \\\n",
    "    --tokenizer_model_name 'transformer-sp-bpe-iwslt' \\\n",
    "    --encoding_type 'bpe' \\\n",
    "    --src_lang 'de' \\\n",
    "    --tgt_lang 'en' \\\n",
    "    --max_seq_length 50 \\\n",
    "    --vocab_size 37000 \\\n",
    "    --pad_id 0 \\\n",
    "    --unk_id 1 \\\n",
    "    --bos_id 2 \\\n",
    "    --eos_id 3 \\\n",
    "    --evaluation_metric 'bleu' \\\n",
    "    --seed 42 \\\n",
    "    --epoch 100 \\\n",
    "    --logging_step 100 \\\n",
    "    --gpu 0 \\\n",
    "    --batch_size 128 \\\n",
    "    --sinusoidal_wave 10000 \\\n",
    "    --embedding_dim 512 \\\n",
    "    --num_attention_heads 8 \\\n",
    "    --num_sub_layer 6 \\\n",
    "    --feed_forward_size 2048 \\\n",
    "    --attention_dropout_prob 0.1 \\\n",
    "    --label_smoothing 0.1 \\\n",
    "    --optimizer_coefficient 0.1 \\\n",
    "    --warmup_steps 4000 \\\n",
    "    --learning_rate 1e-4 \\\n",
    "    --adam_beta1 0.9 \\\n",
    "    --adam_beta2 0.98 \\\n",
    "    --adam_epsilon 1e-9"
   ]
  },
  {
   "cell_type": "markdown",
   "metadata": {},
   "source": [
    "#### SacreBLEU"
   ]
  },
  {
   "cell_type": "code",
   "execution_count": 3,
   "metadata": {},
   "outputs": [
    {
     "name": "stdout",
     "output_type": "stream",
     "text": [
      "2024-05-23 23:32:10.053763: I tensorflow/core/platform/cpu_feature_guard.cc:210] This TensorFlow binary is optimized to use available CPU instructions in performance-critical operations.\n",
      "To enable the following instructions: AVX2 AVX512F FMA, in other operations, rebuild TensorFlow with the appropriate compiler flags.\n",
      "2024-05-23 23:32:10.739697: W tensorflow/compiler/tf2tensorrt/utils/py_utils.cc:38] TF-TRT Warning: Could not find TensorRT\n",
      "sentencepiece_trainer.cc(178) LOG(INFO) Running command: --input=./data/iwslt17.de.en/txt/train-de.txt,./data/iwslt17.de.en/txt/valid-de.txt --model_prefix=data/iwslt17.de.en/tokenizer/transformer-sp-bpe-iwslt-de --vocab_size=18500 --model_type=bpe --bos_id=2 --eos_id=3 --pad_id=0 --unk_id=1 --minloglevel=2\n",
      " 89%|████████████████████████████████████████     | 8/9 [00:19<00:02,  2.47s/it]\n",
      "Prediction:\n",
      "\n",
      "['', 'There']\n",
      "['', 'There', \"'\"]\n",
      "['', 'There', \"'\", 's']\n",
      "['', 'There', \"'\", 's', 'worse']\n",
      "['', 'There', \"'\", 's', 'worse', 'than']\n",
      "['', 'There', \"'\", 's', 'worse', 'than', 'the']\n",
      "['', 'There', \"'\", 's', 'worse', 'than', 'the', '\"']\n",
      "['', 'There', \"'\", 's', 'worse', 'than', 'the', '\"', 'p']\n",
      "['', 'There', \"'\", 's', 'worse', 'than', 'the', '\"', 'p', 'ad']\n",
      "['', 'There', \"'\", 's', 'worse', 'than', 'the', '\"', 'p', 'ad', 'ter']\n",
      "['', 'There', \"'\", 's', 'worse', 'than', 'the', '\"', 'p', 'ad', 'ter', '.\"']\n",
      "['', 'There', \"'\", 's', 'worse', 'than', 'the', '\"', 'p', 'ad', 'ter', '.\"', '']\n",
      "['', 'There', \"'\", 's', 'worse', 'than', 'the', '\"', 'p', 'ad', 'ter', '.\"', '', '.']\n",
      "['', 'There', \"'\", 's', 'worse', 'than', 'the', '\"', 'p', 'ad', 'ter', '.\"', '', '.', '']\n",
      "['', 'There', \"'\", 's', 'worse', 'than', 'the', '\"', 'p', 'ad', 'ter', '.\"', '', '.', '', '.']\n",
      "['', 'There', \"'\", 's', 'worse', 'than', 'the', '\"', 'p', 'ad', 'ter', '.\"', '', '.', '', '.', '']\n",
      "['', 'There', \"'\", 's', 'worse', 'than', 'the', '\"', 'p', 'ad', 'ter', '.\"', '', '.', '', '.', '', '.\"']\n",
      "['', 'There', \"'\", 's', 'worse', 'than', 'the', '\"', 'p', 'ad', 'ter', '.\"', '', '.', '', '.', '', '.\"', '']\n",
      "['', 'There', \"'\", 's', 'worse', 'than', 'the', '\"', 'p', 'ad', 'ter', '.\"', '', '.', '', '.', '', '.\"', '', '.']\n",
      "['', 'There', \"'\", 's', 'worse', 'than', 'the', '\"', 'p', 'ad', 'ter', '.\"', '', '.', '', '.', '', '.\"', '', '.', '']\n",
      "['', 'There', \"'\", 's', 'worse', 'than', 'the', '\"', 'p', 'ad', 'ter', '.\"', '', '.', '', '.', '', '.\"', '', '.', '', '.']\n",
      "['', 'There', \"'\", 's', 'worse', 'than', 'the', '\"', 'p', 'ad', 'ter', '.\"', '', '.', '', '.', '', '.\"', '', '.', '', '.', '']\n",
      "['', 'There', \"'\", 's', 'worse', 'than', 'the', '\"', 'p', 'ad', 'ter', '.\"', '', '.', '', '.', '', '.\"', '', '.', '', '.', '', '.']\n",
      "['', 'There', \"'\", 's', 'worse', 'than', 'the', '\"', 'p', 'ad', 'ter', '.\"', '', '.', '', '.', '', '.\"', '', '.', '', '.', '', '.', '']\n",
      "['', 'There', \"'\", 's', 'worse', 'than', 'the', '\"', 'p', 'ad', 'ter', '.\"', '', '.', '', '.', '', '.\"', '', '.', '', '.', '', '.', '', '.']\n",
      "['', 'There', \"'\", 's', 'worse', 'than', 'the', '\"', 'p', 'ad', 'ter', '.\"', '', '.', '', '.', '', '.\"', '', '.', '', '.', '', '.', '', '.', '']\n",
      "['', 'There', \"'\", 's', 'worse', 'than', 'the', '\"', 'p', 'ad', 'ter', '.\"', '', '.', '', '.', '', '.\"', '', '.', '', '.', '', '.', '', '.', '', '.']\n",
      "['', 'There', \"'\", 's', 'worse', 'than', 'the', '\"', 'p', 'ad', 'ter', '.\"', '', '.', '', '.', '', '.\"', '', '.', '', '.', '', '.', '', '.', '', '.', '']\n",
      "['', 'There', \"'\", 's', 'worse', 'than', 'the', '\"', 'p', 'ad', 'ter', '.\"', '', '.', '', '.', '', '.\"', '', '.', '', '.', '', '.', '', '.', '', '.', '', '.']\n",
      "['', 'There', \"'\", 's', 'worse', 'than', 'the', '\"', 'p', 'ad', 'ter', '.\"', '', '.', '', '.', '', '.\"', '', '.', '', '.', '', '.', '', '.', '', '.', '', '.', '']\n",
      "['', 'There', \"'\", 's', 'worse', 'than', 'the', '\"', 'p', 'ad', 'ter', '.\"', '', '.', '', '.', '', '.\"', '', '.', '', '.', '', '.', '', '.', '', '.', '', '.', '', '.']\n",
      "['', 'There', \"'\", 's', 'worse', 'than', 'the', '\"', 'p', 'ad', 'ter', '.\"', '', '.', '', '.', '', '.\"', '', '.', '', '.', '', '.', '', '.', '', '.', '', '.', '', '.', '']\n",
      "['', 'There', \"'\", 's', 'worse', 'than', 'the', '\"', 'p', 'ad', 'ter', '.\"', '', '.', '', '.', '', '.\"', '', '.', '', '.', '', '.', '', '.', '', '.', '', '.', '', '.', '', '.']\n",
      "['', 'There', \"'\", 's', 'worse', 'than', 'the', '\"', 'p', 'ad', 'ter', '.\"', '', '.', '', '.', '', '.\"', '', '.', '', '.', '', '.', '', '.', '', '.', '', '.', '', '.', '', '.', '']\n",
      "['', 'There', \"'\", 's', 'worse', 'than', 'the', '\"', 'p', 'ad', 'ter', '.\"', '', '.', '', '.', '', '.\"', '', '.', '', '.', '', '.', '', '.', '', '.', '', '.', '', '.', '', '.', '', '.']\n",
      "['', 'There', \"'\", 's', 'worse', 'than', 'the', '\"', 'p', 'ad', 'ter', '.\"', '', '.', '', '.', '', '.\"', '', '.', '', '.', '', '.', '', '.', '', '.', '', '.', '', '.', '', '.', '', '.', '']\n",
      "['', 'There', \"'\", 's', 'worse', 'than', 'the', '\"', 'p', 'ad', 'ter', '.\"', '', '.', '', '.', '', '.\"', '', '.', '', '.', '', '.', '', '.', '', '.', '', '.', '', '.', '', '.', '', '.', '', '.']\n",
      "['', 'There', \"'\", 's', 'worse', 'than', 'the', '\"', 'p', 'ad', 'ter', '.\"', '', '.', '', '.', '', '.\"', '', '.', '', '.', '', '.', '', '.', '', '.', '', '.', '', '.', '', '.', '', '.', '', '.', '']\n",
      "['', 'There', \"'\", 's', 'worse', 'than', 'the', '\"', 'p', 'ad', 'ter', '.\"', '', '.', '', '.', '', '.\"', '', '.', '', '.', '', '.', '', '.', '', '.', '', '.', '', '.', '', '.', '', '.', '', '.', '', '.']\n",
      "['', 'There', \"'\", 's', 'worse', 'than', 'the', '\"', 'p', 'ad', 'ter', '.\"', '', '.', '', '.', '', '.\"', '', '.', '', '.', '', '.', '', '.', '', '.', '', '.', '', '.', '', '.', '', '.', '', '.', '', '.', '']\n",
      "['', 'There', \"'\", 's', 'worse', 'than', 'the', '\"', 'p', 'ad', 'ter', '.\"', '', '.', '', '.', '', '.\"', '', '.', '', '.', '', '.', '', '.', '', '.', '', '.', '', '.', '', '.', '', '.', '', '.', '', '.', '', '.']\n",
      "['', 'There', \"'\", 's', 'worse', 'than', 'the', '\"', 'p', 'ad', 'ter', '.\"', '', '.', '', '.', '', '.\"', '', '.', '', '.', '', '.', '', '.', '', '.', '', '.', '', '.', '', '.', '', '.', '', '.', '', '.', '', '.', '']\n",
      "['', 'There', \"'\", 's', 'worse', 'than', 'the', '\"', 'p', 'ad', 'ter', '.\"', '', '.', '', '.', '', '.\"', '', '.', '', '.', '', '.', '', '.', '', '.', '', '.', '', '.', '', '.', '', '.', '', '.', '', '.', '', '.', '', '.']\n",
      "['', 'There', \"'\", 's', 'worse', 'than', 'the', '\"', 'p', 'ad', 'ter', '.\"', '', '.', '', '.', '', '.\"', '', '.', '', '.', '', '.', '', '.', '', '.', '', '.', '', '.', '', '.', '', '.', '', '.', '', '.', '', '.', '', '.', '']\n",
      "['', 'There', \"'\", 's', 'worse', 'than', 'the', '\"', 'p', 'ad', 'ter', '.\"', '', '.', '', '.', '', '.\"', '', '.', '', '.', '', '.', '', '.', '', '.', '', '.', '', '.', '', '.', '', '.', '', '.', '', '.', '', '.', '', '.', '', '.']\n",
      "['', 'There', \"'\", 's', 'worse', 'than', 'the', '\"', 'p', 'ad', 'ter', '.\"', '', '.', '', '.', '', '.\"', '', '.', '', '.', '', '.', '', '.', '', '.', '', '.', '', '.', '', '.', '', '.', '', '.', '', '.', '', '.', '', '.', '', '.', '']\n",
      "['', 'There', \"'\", 's', 'worse', 'than', 'the', '\"', 'p', 'ad', 'ter', '.\"', '', '.', '', '.', '', '.\"', '', '.', '', '.', '', '.', '', '.', '', '.', '', '.', '', '.', '', '.', '', '.', '', '.', '', '.', '', '.', '', '.', '', '.', '', 'ing']\n",
      "['', 'There', \"'\", 's', 'worse', 'than', 'the', '\"', 'p', 'ad', 'ter', '.\"', '', '.', '', '.', '', '.\"', '', '.', '', '.', '', '.', '', '.', '', '.', '', '.', '', '.', '', '.', '', '.', '', '.', '', '.', '', '.', '', '.', '', '.', '', 'ing', '.']\n",
      "['', 'There', \"'\", 's', 'worse', 'than', 'the', '\"', 'p', 'ad', 'ter', '.\"', '', '.', '', '.', '', '.\"', '', '.', '', '.', '', '.', '', '.', '', '.', '', '.', '', '.', '', '.', '', '.', '', '.', '', '.', '', '.', '', '.', '', '.', '', 'ing', '.', '']\n",
      "['', 'There', \"'\", 's', 'worse', 'than', 'the', '\"', 'p', 'ad', 'ter', '.\"', '', '.', '', '.', '', '.\"', '', '.', '', '.', '', '.', '', '.', '', '.', '', '.', '', '.', '', '.', '', '.', '', '.', '', '.', '', '.', '', '.', '', '.', '', 'ing', '.', '', '.']\n",
      "\n",
      "Prediction ID: ['', 'There', \"'\", 's', 'worse', 'than', 'the', '\"', 'p', 'ad', 'ter', '.\"', '', '.', '', '.', '', '.\"', '', '.', '', '.', '', '.', '', '.', '', '.', '', '.', '', '.', '', '.', '', '.', '', '.', '', '.', '', '.', '', '.', '', '.', '', 'ing', '.', '', '.']\n",
      "\n",
      "Prediction Text: [2, 453, 18457, 18439, 2838, 374, 8, 151, 18451, 132, 149, 252, 3, 18453, 3, 18453, 3, 252, 3, 18453, 3, 18453, 3, 18453, 3, 18453, 3, 18453, 3, 18453, 3, 18453, 3, 18453, 3, 18453, 3, 18453, 3, 18453, 3, 18453, 3, 18453, 3, 18453, 3, 21, 18453, 3, 18453]\n",
      "Label Text: [782, 51, 5319, 135, 891, 50, 186, 13211, 4, 8799, 1257, 3, 0, 0, 0, 0, 0, 0, 0, 0, 0, 0, 0, 0, 0, 0, 0, 0, 0, 0, 0, 0, 0, 0, 0, 0, 0, 0, 0, 0, 0, 0, 0, 0, 0, 0, 0, 0, 0, 0]\n",
      "\n",
      "100%|█████████████████████████████████████████████| 9/9 [00:22<00:00,  2.47s/it]\n",
      "Test BLEU Score:16.9942  Perplexity:22.9745\n",
      "\n",
      "\n"
     ]
    }
   ],
   "source": [
    "import os\n",
    "os.environ[\"CUDA_DEVICE_ORDER\"] = \"PCI_BUS_ID\"\n",
    "os.environ[\"CUDA_VISIBLE_DEVICES\"] = \"1\"\n",
    "\n",
    "!python -m inference \\\n",
    "    --mode 'run' \\\n",
    "    --test_dataset 'T' \\\n",
    "    --inference_dataset 'inference/data/translation_pair' \\\n",
    "    --model_name 'demo_transformer_base' \\\n",
    "    --config './config/demo_transformer_base.json' \\\n",
    "    --load_model_path './noam_output/demo_transformer_base_81.pt' \\\n",
    "    --data_dir './data/iwslt17.de.en/' \\\n",
    "    --txt_dir 'txt/' \\\n",
    "    --tokenizer_dir 'data/iwslt17.de.en/tokenizer' \\\n",
    "    --tokenizer_model_name 'transformer-sp-bpe-iwslt' \\\n",
    "    --encoding_type 'bpe' \\\n",
    "    --src_lang 'de' \\\n",
    "    --tgt_lang 'en' \\\n",
    "    --max_seq_length 50 \\\n",
    "    --vocab_size 37000 \\\n",
    "    --pad_id 0 \\\n",
    "    --unk_id 1 \\\n",
    "    --bos_id 2 \\\n",
    "    --eos_id 3 \\\n",
    "    --evaluation_metric 'sacrebleu' \\\n",
    "    --seed 42 \\\n",
    "    --epoch 100 \\\n",
    "    --logging_step 100 \\\n",
    "    --gpu 0 \\\n",
    "    --batch_size 128 \\\n",
    "    --sinusoidal_wave 10000 \\\n",
    "    --embedding_dim 512 \\\n",
    "    --num_attention_heads 8 \\\n",
    "    --num_sub_layer 6 \\\n",
    "    --feed_forward_size 2048 \\\n",
    "    --attention_dropout_prob 0.1 \\\n",
    "    --label_smoothing 0.1 \\\n",
    "    --optimizer_coefficient 0.1 \\\n",
    "    --warmup_steps 4000 \\\n",
    "    --learning_rate 1e-4 \\\n",
    "    --adam_beta1 0.9 \\\n",
    "    --adam_beta2 0.98 \\\n",
    "    --adam_epsilon 1e-9"
   ]
  },
  {
   "cell_type": "markdown",
   "metadata": {},
   "source": [
    "### Reference"
   ]
  },
  {
   "cell_type": "markdown",
   "metadata": {},
   "source": [
    "<b>Paper</b>\n",
    "<br>[Attention is all you need](https://arxiv.org/abs/1706.03762)\n",
    "\n",
    "<br><b>Data</b>\n",
    "<br>[IWSLT 2017-01](https://wit3.fbk.eu/2017-01)\n",
    "<br>[IWSLT 2017-01-B](https://wit3.fbk.eu/2017-01-b)"
   ]
  }
 ],
 "metadata": {
  "kernelspec": {
   "display_name": "base",
   "language": "python",
   "name": "python3"
  },
  "language_info": {
   "codemirror_mode": {
    "name": "ipython",
    "version": 3
   },
   "file_extension": ".py",
   "mimetype": "text/x-python",
   "name": "python",
   "nbconvert_exporter": "python",
   "pygments_lexer": "ipython3",
   "version": "3.10.14"
  }
 },
 "nbformat": 4,
 "nbformat_minor": 2
}
